{
 "cells": [
  {
   "cell_type": "code",
   "execution_count": 1,
   "id": "8f663a19-1800-41d9-afea-ffbee7efab60",
   "metadata": {
    "tags": []
   },
   "outputs": [],
   "source": [
    "#Importing the required packages.\n",
    "import pandas as pd\n",
    "import numpy as np\n",
    "from sklearn.linear_model import LogisticRegression\n",
    "from sklearn.feature_extraction.text import TfidfVectorizer\n",
    "from sklearn.metrics import accuracy_score\n"
   ]
  },
  {
   "cell_type": "code",
   "execution_count": 2,
   "id": "88d0e7d5-d68a-4344-9b92-9e2da1f6d68f",
   "metadata": {
    "tags": []
   },
   "outputs": [],
   "source": [
    "#Reading the data\n",
    "key = pd.read_excel('dxcode.xlsx')\n",
    "sentence = pd.read_excel('proc.xlsx')\n",
    "\n"
   ]
  },
  {
   "cell_type": "code",
   "execution_count": 3,
   "id": "e6f0487a-ab36-4a46-aaa7-e673107076c2",
   "metadata": {
    "tags": []
   },
   "outputs": [],
   "source": [
    "df = pd.read_excel('proc2.xlsx')\n",
    "key['keyword'] = key['keyword'].str.rstrip()\n",
    "cols_target = list(key['keyword'])\n"
   ]
  },
  {
   "cell_type": "code",
   "execution_count": 4,
   "id": "3df4c8e5-f08f-41f9-a826-0fd21c4f2734",
   "metadata": {
    "tags": []
   },
   "outputs": [],
   "source": [
    "\n",
    "#Converting Text data into feature vectors\n",
    "vec = TfidfVectorizer(ngram_range=(1,2), max_df=0.9)\n",
    "X_dtm = vec.fit_transform(df['Order Procedure'])"
   ]
  },
  {
   "cell_type": "code",
   "execution_count": 5,
   "id": "8b652b66-65f9-4bae-afca-813dfb829216",
   "metadata": {
    "tags": []
   },
   "outputs": [],
   "source": [
    "#Initialising object for Logistic Regression\n",
    "logreg = LogisticRegression(C=12.0)\n"
   ]
  },
  {
   "cell_type": "code",
   "execution_count": 6,
   "id": "a44f1439-3941-4c13-b5ad-98875c7871a8",
   "metadata": {
    "tags": []
   },
   "outputs": [],
   "source": [
    "#Initialising prdictions array\n",
    "preds = np.zeros((len(df), len(cols_target)))"
   ]
  },
  {
   "cell_type": "code",
   "execution_count": 9,
   "id": "724218e7-34d8-4484-bdc3-23c8b558ad67",
   "metadata": {
    "tags": []
   },
   "outputs": [],
   "source": [
    "\n",
    "#Used Classifier chains to convert multi label problem into single label problem\n",
    "def add_feature(X, feature_to_add):\n",
    " #Returns sparse feature matrix with added feature.\n",
    "    \n",
    "    from scipy.sparse import csr_matrix, hstack\n",
    "    return hstack([X, csr_matrix(feature_to_add).T], 'csr')"
   ]
  },
  {
   "cell_type": "code",
   "execution_count": 10,
   "id": "7db6035c-6c85-4586-a1c3-125bb2387246",
   "metadata": {
    "tags": []
   },
   "outputs": [
    {
     "name": "stdout",
     "output_type": "stream",
     "text": [
      "... Processing spine\n",
      "Training Accuracy is 1.0\n",
      "Shape of X_dtm is now (27, 93)\n",
      "... Processing lumbar\n",
      "Training Accuracy is 1.0\n",
      "Shape of X_dtm is now (27, 94)\n",
      "... Processing mammo\n",
      "Training Accuracy is 1.0\n",
      "Shape of X_dtm is now (27, 95)\n",
      "... Processing ct head\n",
      "Training Accuracy is 1.0\n",
      "Shape of X_dtm is now (27, 96)\n",
      "... Processing contrast\n",
      "Training Accuracy is 1.0\n",
      "Shape of X_dtm is now (27, 97)\n",
      "... Processing abdomen\n",
      "Training Accuracy is 1.0\n",
      "Shape of X_dtm is now (27, 98)\n",
      "... Processing chest\n",
      "Training Accuracy is 1.0\n",
      "Shape of X_dtm is now (27, 99)\n",
      "... Processing xr chest\n",
      "Training Accuracy is 1.0\n",
      "Shape of X_dtm is now (27, 100)\n",
      "... Processing foot\n",
      "Training Accuracy is 1.0\n",
      "Shape of X_dtm is now (27, 101)\n",
      "... Processing xr\n",
      "Training Accuracy is 0.9629629629629629\n",
      "Shape of X_dtm is now (27, 102)\n",
      "... Processing bil\n",
      "Training Accuracy is 0.9629629629629629\n",
      "Shape of X_dtm is now (27, 103)\n",
      "... Processing ct\n",
      "Training Accuracy is 1.0\n",
      "Shape of X_dtm is now (27, 104)\n",
      "... Processing mr\n",
      "Training Accuracy is 1.0\n",
      "Shape of X_dtm is now (27, 105)\n",
      "... Processing shoulder\n",
      "Training Accuracy is 1.0\n",
      "Shape of X_dtm is now (27, 106)\n"
     ]
    }
   ],
   "source": [
    "for i,label in enumerate(cols_target):\n",
    "    if df[label].sum()>0:\n",
    "        \n",
    "        print('... Processing {}'.format(label))\n",
    "        y = df[label]\n",
    "        # train the model using X_dtm & y\n",
    "        logreg.fit(X_dtm,y)\n",
    "        # compute the training accuracy\n",
    "        y_pred_X = logreg.predict(X_dtm)\n",
    "        print('Training Accuracy is {}'.format(accuracy_score(y,y_pred_X)))\n",
    "        \n",
    "        preds[:,i] = logreg.predict_proba(X_dtm)[:,1]\n",
    "        # chain current label to X_dtm\n",
    "        X_dtm = add_feature(X_dtm, y)\n",
    "        print('Shape of X_dtm is now {}'.format(X_dtm.shape))"
   ]
  },
  {
   "cell_type": "code",
   "execution_count": 11,
   "id": "d00e5d3f-3d97-447f-8acb-a17321fe2148",
   "metadata": {
    "tags": []
   },
   "outputs": [],
   "source": [
    "#To prepare a dataframe with the obtained Predictions\n",
    "submid = pd.DataFrame({'Procedure': df['Order Procedure']})\n",
    "submission = pd.concat([submid, pd.DataFrame(preds, columns = cols_target)], axis=1)\n",
    "columns = ['Procedure']\n",
    "columns.extend(list(key['code']))\n",
    "submission.columns = columns"
   ]
  },
  {
   "cell_type": "code",
   "execution_count": 12,
   "id": "f73ba280-1387-4d02-a887-b35afd5b0f8a",
   "metadata": {
    "tags": []
   },
   "outputs": [
    {
     "name": "stdout",
     "output_type": "stream",
     "text": [
      "ct spine lumbar without contrast\n",
      "['A10.0', 'A10.1', 'S900.87', 'P54.7']\n",
      "mg mammo screen digtal bil wtomo\n",
      "['B23.9', 'V07.90']\n",
      "ct head without contrast\n",
      "['B11.7', 'S900.87']\n",
      "xr chest 2 views \n",
      "['G19.98']\n",
      "ct head without contrast\n",
      "['B11.7', 'S900.87']\n",
      "us abdomen \n",
      "['T47.1']\n",
      "xr chest portable\n",
      "['G19.98']\n",
      "xr clavicle right\n",
      "['Z78.0']\n",
      "xr spine lumbar 2 or 3 views rade eap xr spine lumbar 2 or 3v\n",
      "['A10.0', 'A10.1']\n",
      "us abdomen limited\n",
      "['T47.1']\n",
      "mr lumbar w + wo contrast\n",
      "['A10.1']\n",
      "mg mammo screen digtal bil wtomo\n",
      "['B23.9', 'V07.90']\n",
      "xr chest 2 views \n",
      "['G19.98']\n",
      "xr foot 3 views\n",
      "['L92.3', 'Z78.0']\n",
      "ct spine lumbar without contrast\n",
      "['A10.0', 'A10.1', 'S900.87', 'P54.7']\n",
      "mr spine cervical without contrast\n",
      "['A10.0', 'S900.87', 'Q19.01']\n",
      "ct spine lumbar without contrast\n",
      "['A10.0', 'A10.1', 'S900.87', 'P54.7']\n",
      "xr spine lumbar 2 or 3 views rade eap xr spine lumbar 2 or 3v\n",
      "['A10.0', 'A10.1']\n",
      "mg mammo screen digtal bil wtomo\n",
      "['B23.9', 'V07.90']\n",
      "xr chest portable\n",
      "['G19.98']\n",
      "ct head without contrast\n",
      "['B11.7', 'S900.87']\n",
      "mr humeras right without contrast\n",
      "['S900.87', 'Q19.01']\n",
      "ct chest rad eap ct angio chest\n",
      "['Y64.43', 'P54.7']\n",
      "mri lower extremity without contrast\n",
      "['S900.87']\n",
      "xr chest 2 views \n",
      "['G19.98']\n",
      "xr shoulder 2 or more view left\n",
      "['Z78.0', 'D31.0']\n",
      "xr hand 3 views\n",
      "['Z78.0']\n"
     ]
    }
   ],
   "source": [
    "#To print respective code for the keyword\n",
    "for j,lab in enumerate(submission['Procedure']):\n",
    "    print(lab)\n",
    "    print(list(submission.iloc[:,1:].columns[(submission.iloc[:,1:] > 0.5).iloc[j]]))"
   ]
  },
  {
   "cell_type": "code",
   "execution_count": null,
   "id": "63083b23-e63c-4382-a768-d1d97dd67ac7",
   "metadata": {},
   "outputs": [],
   "source": []
  }
 ],
 "metadata": {
  "kernelspec": {
   "display_name": "Python 3 (ipykernel)",
   "language": "python",
   "name": "python3"
  },
  "language_info": {
   "codemirror_mode": {
    "name": "ipython",
    "version": 3
   },
   "file_extension": ".py",
   "mimetype": "text/x-python",
   "name": "python",
   "nbconvert_exporter": "python",
   "pygments_lexer": "ipython3",
   "version": "3.11.4"
  }
 },
 "nbformat": 4,
 "nbformat_minor": 5
}
